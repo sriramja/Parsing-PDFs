{
  "nbformat": 4,
  "nbformat_minor": 0,
  "metadata": {
    "colab": {
      "name": "Extract images from PDF.ipynb",
      "provenance": [],
      "collapsed_sections": []
    },
    "kernelspec": {
      "name": "python3",
      "display_name": "Python 3"
    }
  },
  "cells": [
    {
      "cell_type": "markdown",
      "metadata": {
        "id": "pxOJNyp_b-f6"
      },
      "source": [
        "### EXTRACT IMAGES WITH PAGE NUMBER FROM A FILE\r\n",
        "###### Images are extracted to a folder of flexibility, zipped for ease of download from Google Colab\r\n"
      ]
    },
    {
      "cell_type": "code",
      "metadata": {
        "colab": {
          "base_uri": "https://localhost:8080/"
        },
        "id": "yYUxmZFhb8jj",
        "outputId": "6d6f8d77-2aa7-4a5f-8ff6-dc87ffe30fa3"
      },
      "source": [
        "!pip install PyMuPDF Pillow"
      ],
      "execution_count": 1,
      "outputs": [
        {
          "output_type": "stream",
          "text": [
            "Collecting PyMuPDF\n",
            "\u001b[?25l  Downloading https://files.pythonhosted.org/packages/1b/75/3c72f727c729522093264709629f0514993824c5d7cadc749e9ae68c2410/PyMuPDF-1.18.8-cp36-cp36m-manylinux2010_x86_64.whl (6.3MB)\n",
            "\u001b[K     |████████████████████████████████| 6.3MB 10.3MB/s \n",
            "\u001b[?25hRequirement already satisfied: Pillow in /usr/local/lib/python3.6/dist-packages (7.0.0)\n",
            "Installing collected packages: PyMuPDF\n",
            "Successfully installed PyMuPDF-1.18.8\n"
          ],
          "name": "stdout"
        }
      ]
    },
    {
      "cell_type": "code",
      "metadata": {
        "id": "-jQcV1brcCNq"
      },
      "source": [
        "import fitz # PyMuPDF\r\n",
        "import io\r\n",
        "from PIL import Image"
      ],
      "execution_count": 2,
      "outputs": []
    },
    {
      "cell_type": "code",
      "metadata": {
        "id": "JX1WPZaCcEHR"
      },
      "source": [
        "file = \"/content/RFA Zambia BRD.pdf\"\r\n",
        "# open the file\r\n",
        "pdf_file = fitz.open(file)"
      ],
      "execution_count": 16,
      "outputs": []
    },
    {
      "cell_type": "code",
      "metadata": {
        "colab": {
          "base_uri": "https://localhost:8080/"
        },
        "id": "YDKR2t2ZcD_z",
        "outputId": "c9c7bce8-97f3-4481-d6e8-d55be4ffb515"
      },
      "source": [
        "# iterate over PDF pages\r\n",
        "for page_index in range(len(pdf_file)):\r\n",
        "    # get the page itself\r\n",
        "    page = pdf_file[page_index]\r\n",
        "    image_list = page.getImageList()\r\n",
        "    # printing number of images found in this page\r\n",
        "    if image_list:\r\n",
        "        print(f\"[+] Found a total of {len(image_list)} images in page {page_index}\")\r\n",
        "    else:\r\n",
        "        print(\"[!] No images found on page\", page_index)\r\n",
        "    for image_index, img in enumerate(page.getImageList(), start=1):\r\n",
        "        # get the XREF of the image\r\n",
        "        xref = img[0]\r\n",
        "        # extract the image bytes\r\n",
        "        base_image = pdf_file.extractImage(xref)\r\n",
        "        image_bytes = base_image[\"image\"]\r\n",
        "        # get the image extension\r\n",
        "        image_ext = base_image[\"ext\"]\r\n",
        "        # load it to PIL\r\n",
        "        image = Image.open(io.BytesIO(image_bytes))\r\n",
        "        # save it to local disk\r\n",
        "        image.save(open(f\"/content/RFA Zambia BRD/image{page_index+1}_{image_index}.{image_ext}\", \"wb\"))"
      ],
      "execution_count": 17,
      "outputs": [
        {
          "output_type": "stream",
          "text": [
            "[+] Found a total of 1 images in page 0\n",
            "[!] No images found on page 1\n",
            "[!] No images found on page 2\n",
            "[!] No images found on page 3\n",
            "[!] No images found on page 4\n",
            "[!] No images found on page 5\n",
            "[+] Found a total of 1 images in page 6\n",
            "[!] No images found on page 7\n",
            "[+] Found a total of 1 images in page 8\n",
            "[!] No images found on page 9\n",
            "[+] Found a total of 1 images in page 10\n",
            "[!] No images found on page 11\n",
            "[!] No images found on page 12\n",
            "[!] No images found on page 13\n",
            "[!] No images found on page 14\n",
            "[!] No images found on page 15\n",
            "[!] No images found on page 16\n",
            "[!] No images found on page 17\n",
            "[!] No images found on page 18\n",
            "[+] Found a total of 2 images in page 19\n",
            "[+] Found a total of 1 images in page 20\n",
            "[+] Found a total of 1 images in page 21\n"
          ],
          "name": "stdout"
        }
      ]
    },
    {
      "cell_type": "code",
      "metadata": {
        "colab": {
          "base_uri": "https://localhost:8080/"
        },
        "id": "__X85FdBc-lr",
        "outputId": "11c27d66-d337-4cfd-87ea-519fa55c65d9"
      },
      "source": [
        "!zip -r ./RFA_Zambia_BRD.zip ./RFA_Zambia_BRD/"
      ],
      "execution_count": 20,
      "outputs": [
        {
          "output_type": "stream",
          "text": [
            "  adding: RFA_Zambia_BRD/ (stored 0%)\n",
            "  adding: RFA_Zambia_BRD/image9_1.jpeg (deflated 13%)\n",
            "  adding: RFA_Zambia_BRD/image7_1.jpeg (deflated 14%)\n",
            "  adding: RFA_Zambia_BRD/image20_1.png (stored 0%)\n",
            "  adding: RFA_Zambia_BRD/image11_1.jpeg (deflated 15%)\n",
            "  adding: RFA_Zambia_BRD/image21_1.jpeg (deflated 28%)\n",
            "  adding: RFA_Zambia_BRD/image20_2.png (stored 0%)\n",
            "  adding: RFA_Zambia_BRD/image1_1.png (deflated 3%)\n",
            "  adding: RFA_Zambia_BRD/image22_1.jpeg (deflated 24%)\n"
          ],
          "name": "stdout"
        }
      ]
    }
  ]
}