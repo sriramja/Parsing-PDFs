{
  "nbformat": 4,
  "nbformat_minor": 0,
  "metadata": {
    "colab": {
      "name": "Export vector images in PDF to SVG.ipynb",
      "provenance": [],
      "collapsed_sections": []
    },
    "kernelspec": {
      "name": "python3",
      "display_name": "Python 3"
    }
  },
  "cells": [
    {
      "cell_type": "markdown",
      "metadata": {
        "id": "mTQ-mX8uUNLD"
      },
      "source": [
        "Export vector images in PDF to SVG"
      ]
    },
    {
      "cell_type": "code",
      "metadata": {
        "colab": {
          "base_uri": "https://localhost:8080/"
        },
        "id": "lksEJ3drUMbv",
        "outputId": "49f83eca-69b9-4f92-fb8d-3eae2db02598"
      },
      "source": [
        "!wget https://github.com/dawbarton/pdf2svg/archive/v0.2.3.tar.gz"
      ],
      "execution_count": 6,
      "outputs": [
        {
          "output_type": "stream",
          "text": [
            "--2021-02-17 14:09:16--  https://github.com/dawbarton/pdf2svg/archive/v0.2.3.tar.gz\n",
            "Resolving github.com (github.com)... 140.82.112.4\n",
            "Connecting to github.com (github.com)|140.82.112.4|:443... connected.\n",
            "HTTP request sent, awaiting response... 302 Found\n",
            "Location: https://codeload.github.com/dawbarton/pdf2svg/tar.gz/v0.2.3 [following]\n",
            "--2021-02-17 14:09:16--  https://codeload.github.com/dawbarton/pdf2svg/tar.gz/v0.2.3\n",
            "Resolving codeload.github.com (codeload.github.com)... 140.82.113.9\n",
            "Connecting to codeload.github.com (codeload.github.com)|140.82.113.9|:443... connected.\n",
            "HTTP request sent, awaiting response... 200 OK\n",
            "Length: unspecified [application/x-gzip]\n",
            "Saving to: ‘v0.2.3.tar.gz’\n",
            "\n",
            "v0.2.3.tar.gz           [ <=>                ]  87.36K  --.-KB/s    in 0.08s   \n",
            "\n",
            "2021-02-17 14:09:16 (1.13 MB/s) - ‘v0.2.3.tar.gz’ saved [89461]\n",
            "\n"
          ],
          "name": "stdout"
        }
      ]
    },
    {
      "cell_type": "code",
      "metadata": {
        "id": "oAIAf6brUtqb"
      },
      "source": [
        "!tar -zxf v0.2.3.tar.gz"
      ],
      "execution_count": 7,
      "outputs": []
    },
    {
      "cell_type": "code",
      "metadata": {
        "colab": {
          "base_uri": "https://localhost:8080/"
        },
        "id": "XGjCGsgBVAsY",
        "outputId": "67f3b872-30aa-4904-e804-84ba6e9d918c"
      },
      "source": [
        "%cd pdf2svg-0.2.3"
      ],
      "execution_count": 8,
      "outputs": [
        {
          "output_type": "stream",
          "text": [
            "/content/pdf2svg-0.2.3\n"
          ],
          "name": "stdout"
        }
      ]
    },
    {
      "cell_type": "code",
      "metadata": {
        "colab": {
          "base_uri": "https://localhost:8080/"
        },
        "id": "xdZ05wsvZxRi",
        "outputId": "a64ac3c5-a73d-446e-9a71-bad393968a8d"
      },
      "source": [
        "!sudo apt-get install libcairo2-dev libjpeg-dev libgif-dev libpoppler-glib-dev"
      ],
      "execution_count": 32,
      "outputs": [
        {
          "output_type": "stream",
          "text": [
            "Reading package lists... Done\n",
            "Building dependency tree       \n",
            "Reading state information... Done\n",
            "libjpeg-dev is already the newest version (8c-2ubuntu8).\n",
            "libcairo2-dev is already the newest version (1.15.10-2ubuntu0.1).\n",
            "libgif-dev is already the newest version (5.1.4-2ubuntu0.1).\n",
            "The following additional packages will be installed:\n",
            "  gir1.2-freedesktop gir1.2-poppler-0.18 libpoppler-dev libpoppler-glib8\n",
            "Suggested packages:\n",
            "  libpoppler-glib-doc\n",
            "The following NEW packages will be installed:\n",
            "  gir1.2-freedesktop gir1.2-poppler-0.18 libpoppler-dev libpoppler-glib-dev\n",
            "  libpoppler-glib8\n",
            "0 upgraded, 5 newly installed, 0 to remove and 17 not upgraded.\n",
            "Need to get 188 kB of archives.\n",
            "After this operation, 1,203 kB of additional disk space will be used.\n",
            "Get:1 http://archive.ubuntu.com/ubuntu bionic/main amd64 gir1.2-freedesktop amd64 1.56.1-1 [9,080 B]\n",
            "Get:2 http://archive.ubuntu.com/ubuntu bionic-updates/main amd64 libpoppler-glib8 amd64 0.62.0-2ubuntu2.12 [108 kB]\n",
            "Get:3 http://archive.ubuntu.com/ubuntu bionic-updates/main amd64 gir1.2-poppler-0.18 amd64 0.62.0-2ubuntu2.12 [18.5 kB]\n",
            "Get:4 http://archive.ubuntu.com/ubuntu bionic-updates/main amd64 libpoppler-dev amd64 0.62.0-2ubuntu2.12 [4,620 B]\n",
            "Get:5 http://archive.ubuntu.com/ubuntu bionic-updates/main amd64 libpoppler-glib-dev amd64 0.62.0-2ubuntu2.12 [47.7 kB]\n",
            "Fetched 188 kB in 1s (263 kB/s)\n",
            "debconf: unable to initialize frontend: Dialog\n",
            "debconf: (No usable dialog-like program is installed, so the dialog based frontend cannot be used. at /usr/share/perl5/Debconf/FrontEnd/Dialog.pm line 76, <> line 5.)\n",
            "debconf: falling back to frontend: Readline\n",
            "debconf: unable to initialize frontend: Readline\n",
            "debconf: (This frontend requires a controlling tty.)\n",
            "debconf: falling back to frontend: Teletype\n",
            "dpkg-preconfigure: unable to re-open stdin: \n",
            "Selecting previously unselected package gir1.2-freedesktop:amd64.\n",
            "(Reading database ... 146494 files and directories currently installed.)\n",
            "Preparing to unpack .../gir1.2-freedesktop_1.56.1-1_amd64.deb ...\n",
            "Unpacking gir1.2-freedesktop:amd64 (1.56.1-1) ...\n",
            "Selecting previously unselected package libpoppler-glib8:amd64.\n",
            "Preparing to unpack .../libpoppler-glib8_0.62.0-2ubuntu2.12_amd64.deb ...\n",
            "Unpacking libpoppler-glib8:amd64 (0.62.0-2ubuntu2.12) ...\n",
            "Selecting previously unselected package gir1.2-poppler-0.18:amd64.\n",
            "Preparing to unpack .../gir1.2-poppler-0.18_0.62.0-2ubuntu2.12_amd64.deb ...\n",
            "Unpacking gir1.2-poppler-0.18:amd64 (0.62.0-2ubuntu2.12) ...\n",
            "Selecting previously unselected package libpoppler-dev:amd64.\n",
            "Preparing to unpack .../libpoppler-dev_0.62.0-2ubuntu2.12_amd64.deb ...\n",
            "Unpacking libpoppler-dev:amd64 (0.62.0-2ubuntu2.12) ...\n",
            "Selecting previously unselected package libpoppler-glib-dev.\n",
            "Preparing to unpack .../libpoppler-glib-dev_0.62.0-2ubuntu2.12_amd64.deb ...\n",
            "Unpacking libpoppler-glib-dev (0.62.0-2ubuntu2.12) ...\n",
            "Setting up libpoppler-glib8:amd64 (0.62.0-2ubuntu2.12) ...\n",
            "Setting up libpoppler-dev:amd64 (0.62.0-2ubuntu2.12) ...\n",
            "Setting up gir1.2-freedesktop:amd64 (1.56.1-1) ...\n",
            "Setting up gir1.2-poppler-0.18:amd64 (0.62.0-2ubuntu2.12) ...\n",
            "Setting up libpoppler-glib-dev (0.62.0-2ubuntu2.12) ...\n",
            "Processing triggers for libc-bin (2.27-3ubuntu1.3) ...\n",
            "/sbin/ldconfig.real: /usr/local/lib/python3.6/dist-packages/ideep4py/lib/libmkldnn.so.0 is not a symbolic link\n",
            "\n"
          ],
          "name": "stdout"
        }
      ]
    },
    {
      "cell_type": "code",
      "metadata": {
        "id": "5e4DwLQBZUFU"
      },
      "source": [
        "!export PKG_CONFIG_PATH=/usr/local"
      ],
      "execution_count": 30,
      "outputs": []
    },
    {
      "cell_type": "code",
      "metadata": {
        "colab": {
          "base_uri": "https://localhost:8080/"
        },
        "id": "co7egu1GVEoe",
        "outputId": "d4768b5d-bd7c-4e12-8c6f-4887e4543ea1"
      },
      "source": [
        "!./configure --prefix=/usr/local"
      ],
      "execution_count": 33,
      "outputs": [
        {
          "output_type": "stream",
          "text": [
            "checking for a BSD-compatible install... /usr/bin/install -c\n",
            "checking whether build environment is sane... yes\n",
            "/content/pdf2svg-0.2.3/missing: Unknown `--is-lightweight' option\n",
            "Try `/content/pdf2svg-0.2.3/missing --help' for more information\n",
            "configure: WARNING: 'missing' script is too old or missing\n",
            "checking for a thread-safe mkdir -p... /bin/mkdir -p\n",
            "checking for gawk... no\n",
            "checking for mawk... mawk\n",
            "checking whether make sets $(MAKE)... yes\n",
            "checking whether make supports nested variables... yes\n",
            "checking for gcc... gcc\n",
            "checking whether the C compiler works... yes\n",
            "checking for C compiler default output file name... a.out\n",
            "checking for suffix of executables... \n",
            "checking whether we are cross compiling... no\n",
            "checking for suffix of object files... o\n",
            "checking whether we are using the GNU C compiler... yes\n",
            "checking whether gcc accepts -g... yes\n",
            "checking for gcc option to accept ISO C89... none needed\n",
            "checking whether gcc understands -c and -o together... yes\n",
            "checking for style of include used by make... GNU\n",
            "checking dependency style of gcc... gcc3\n",
            "checking for an ANSI C-conforming const... yes\n",
            "checking for pkg-config... /usr/bin/pkg-config\n",
            "checking pkg-config is at least version 0.9.0... yes\n",
            "checking for CAIRO... yes\n",
            "checking for POPPLERGLIB... yes\n",
            "checking that generated files are newer than configure... done\n",
            "configure: creating ./config.status\n",
            "config.status: creating Makefile\n",
            "config.status: executing depfiles commands\n"
          ],
          "name": "stdout"
        }
      ]
    },
    {
      "cell_type": "code",
      "metadata": {
        "colab": {
          "base_uri": "https://localhost:8080/"
        },
        "id": "ygXKevtRVbET",
        "outputId": "9484e7d8-581c-4f70-e1a8-5f0824da055d"
      },
      "source": [
        "!make"
      ],
      "execution_count": 34,
      "outputs": [
        {
          "output_type": "stream",
          "text": [
            "gcc -DPACKAGE_NAME=\\\"pdf2svg\\\" -DPACKAGE_TARNAME=\\\"pdf2svg\\\" -DPACKAGE_VERSION=\\\"0.2.1\\\" -DPACKAGE_STRING=\\\"pdf2svg\\ 0.2.1\\\" -DPACKAGE_BUGREPORT=\\\"David\\ Barton\\ \\<davebarton@cityinthesky.co.uk\\>\\\" -DPACKAGE_URL=\\\"\\\" -DPACKAGE=\\\"pdf2svg\\\" -DVERSION=\\\"0.2.1\\\" -I.    -I/usr/include/cairo -I/usr/include/glib-2.0 -I/usr/lib/x86_64-linux-gnu/glib-2.0/include -I/usr/include/pixman-1 -I/usr/include/freetype2 -I/usr/include/libpng16 -I/usr/include/freetype2 -I/usr/include/libpng16 -I/usr/include/poppler/glib -I/usr/include/poppler -I/usr/include/cairo -I/usr/include/glib-2.0 -I/usr/lib/x86_64-linux-gnu/glib-2.0/include -I/usr/include/pixman-1 -I/usr/include/freetype2 -I/usr/include/libpng16 -I/usr/include/freetype2 -I/usr/include/libpng16  -g -O2 -MT pdf2svg-pdf2svg.o -MD -MP -MF .deps/pdf2svg-pdf2svg.Tpo -c -o pdf2svg-pdf2svg.o `test -f 'pdf2svg.c' || echo './'`pdf2svg.c\n",
            "\u001b[01m\u001b[Kpdf2svg.c:\u001b[m\u001b[K In function ‘\u001b[01m\u001b[Kmain\u001b[m\u001b[K’:\n",
            "\u001b[01m\u001b[Kpdf2svg.c:90:2:\u001b[m\u001b[K \u001b[01;35m\u001b[Kwarning: \u001b[m\u001b[K‘\u001b[01m\u001b[Kg_type_init\u001b[m\u001b[K’ is deprecated [\u001b[01;35m\u001b[K-Wdeprecated-declarations\u001b[m\u001b[K]\n",
            "  \u001b[01;35m\u001b[Kg_type_init\u001b[m\u001b[K ();\n",
            "  \u001b[01;35m\u001b[K^~~~~~~~~~~\u001b[m\u001b[K\n",
            "In file included from \u001b[01m\u001b[K/usr/include/glib-2.0/gobject/gobject.h:24:0\u001b[m\u001b[K,\n",
            "                 from \u001b[01m\u001b[K/usr/include/glib-2.0/gobject/gbinding.h:29\u001b[m\u001b[K,\n",
            "                 from \u001b[01m\u001b[K/usr/include/glib-2.0/glib-object.h:23\u001b[m\u001b[K,\n",
            "                 from \u001b[01m\u001b[K/usr/include/poppler/glib/poppler.h:22\u001b[m\u001b[K,\n",
            "                 from \u001b[01m\u001b[Kpdf2svg.c:25\u001b[m\u001b[K:\n",
            "\u001b[01m\u001b[K/usr/include/glib-2.0/gobject/gtype.h:686:23:\u001b[m\u001b[K \u001b[01;36m\u001b[Knote: \u001b[m\u001b[Kdeclared here\n",
            " void                  \u001b[01;36m\u001b[Kg_type_init\u001b[m\u001b[K                    (void);\n",
            "                       \u001b[01;36m\u001b[K^~~~~~~~~~~\u001b[m\u001b[K\n",
            "mv -f .deps/pdf2svg-pdf2svg.Tpo .deps/pdf2svg-pdf2svg.Po\n",
            "gcc -I/usr/include/cairo -I/usr/include/glib-2.0 -I/usr/lib/x86_64-linux-gnu/glib-2.0/include -I/usr/include/pixman-1 -I/usr/include/freetype2 -I/usr/include/libpng16 -I/usr/include/freetype2 -I/usr/include/libpng16 -I/usr/include/poppler/glib -I/usr/include/poppler -I/usr/include/cairo -I/usr/include/glib-2.0 -I/usr/lib/x86_64-linux-gnu/glib-2.0/include -I/usr/include/pixman-1 -I/usr/include/freetype2 -I/usr/include/libpng16 -I/usr/include/freetype2 -I/usr/include/libpng16  -g -O2   -o pdf2svg pdf2svg-pdf2svg.o -lcairo -lpoppler-glib -lgobject-2.0 -lglib-2.0 -lcairo  \n"
          ],
          "name": "stdout"
        }
      ]
    },
    {
      "cell_type": "code",
      "metadata": {
        "colab": {
          "base_uri": "https://localhost:8080/"
        },
        "id": "p2Ysvx07WbTU",
        "outputId": "76d1d253-6644-40ed-da13-d599e2e7e7f9"
      },
      "source": [
        "!make install"
      ],
      "execution_count": 35,
      "outputs": [
        {
          "output_type": "stream",
          "text": [
            "make[1]: Entering directory '/content/pdf2svg-0.2.3'\n",
            " /bin/mkdir -p '/usr/local/bin'\n",
            "  /usr/bin/install -c pdf2svg '/usr/local/bin'\n",
            "make[1]: Nothing to be done for 'install-data-am'.\n",
            "make[1]: Leaving directory '/content/pdf2svg-0.2.3'\n"
          ],
          "name": "stdout"
        }
      ]
    },
    {
      "cell_type": "code",
      "metadata": {
        "id": "57aRt7FtWdZD"
      },
      "source": [
        "for i in range(0,70):\r\n",
        "  !pdf2svg /content/Developing-Content.pdf /content/output-page{i}.svg"
      ],
      "execution_count": 52,
      "outputs": []
    },
    {
      "cell_type": "markdown",
      "metadata": {
        "id": "1sqMmf7Zcjsj"
      },
      "source": [
        "###**The above exports all pages into SVG**"
      ]
    },
    {
      "cell_type": "markdown",
      "metadata": {
        "id": "gx8cLzIufg3v"
      },
      "source": [
        "**Below code ONLY exports those pages that contain images** \r\n",
        "\r\n",
        "-> into SVG"
      ]
    },
    {
      "cell_type": "code",
      "metadata": {
        "colab": {
          "base_uri": "https://localhost:8080/"
        },
        "id": "BaAjvcLCcksN",
        "outputId": "071f348d-94c9-483e-b668-81df1f8f771a"
      },
      "source": [
        "!pip install PyMuPDF Pillow"
      ],
      "execution_count": 54,
      "outputs": [
        {
          "output_type": "stream",
          "text": [
            "Collecting PyMuPDF\n",
            "\u001b[?25l  Downloading https://files.pythonhosted.org/packages/1b/75/3c72f727c729522093264709629f0514993824c5d7cadc749e9ae68c2410/PyMuPDF-1.18.8-cp36-cp36m-manylinux2010_x86_64.whl (6.3MB)\n",
            "\u001b[K     |████████████████████████████████| 6.3MB 4.6MB/s \n",
            "\u001b[?25hRequirement already satisfied: Pillow in /usr/local/lib/python3.6/dist-packages (7.0.0)\n",
            "Installing collected packages: PyMuPDF\n",
            "Successfully installed PyMuPDF-1.18.8\n"
          ],
          "name": "stdout"
        }
      ]
    },
    {
      "cell_type": "code",
      "metadata": {
        "id": "cppkbifOe1sP"
      },
      "source": [
        "import fitz # PyMuPDF\r\n",
        "import io\r\n",
        "from PIL import Image"
      ],
      "execution_count": 55,
      "outputs": []
    },
    {
      "cell_type": "code",
      "metadata": {
        "id": "8S4dz0H9b7Nn"
      },
      "source": [
        "file = \"/content/Developing-Content.pdf\"\r\n",
        "# open the file\r\n",
        "pdf_file = fitz.open(file)"
      ],
      "execution_count": 56,
      "outputs": []
    },
    {
      "cell_type": "code",
      "metadata": {
        "colab": {
          "base_uri": "https://localhost:8080/"
        },
        "id": "u58RmIM3b255",
        "outputId": "02238867-5de4-4c32-f28c-685458e75e29"
      },
      "source": [
        "# iterate over PDF pages\r\n",
        "for page_index in range(len(pdf_file)):\r\n",
        "    # get the page itself\r\n",
        "    page = pdf_file[page_index]\r\n",
        "    image_list = page.getImageList()\r\n",
        "    # printing number of images found in this page\r\n",
        "    if image_list:\r\n",
        "        print(f\"[+] Found a total of {len(image_list)} images in page {page_index}\")\r\n",
        "        !pdf2svg /content/Developing-Content.pdf /content/ooooutput-page{page_index}.svg\r\n",
        "    else:\r\n",
        "        print(\"[!] No images found on page\", page_index)\r\n",
        "        "
      ],
      "execution_count": 59,
      "outputs": [
        {
          "output_type": "stream",
          "text": [
            "[+] Found a total of 1 images in page 0\n",
            "[+] Found a total of 1 images in page 1\n",
            "[+] Found a total of 1 images in page 2\n",
            "[+] Found a total of 1 images in page 3\n",
            "[+] Found a total of 1 images in page 4\n",
            "[+] Found a total of 1 images in page 5\n",
            "[+] Found a total of 1 images in page 6\n",
            "[+] Found a total of 1 images in page 7\n",
            "[+] Found a total of 21 images in page 8\n",
            "[+] Found a total of 1 images in page 9\n",
            "[+] Found a total of 1 images in page 10\n",
            "[+] Found a total of 1 images in page 11\n",
            "[+] Found a total of 1 images in page 12\n",
            "[+] Found a total of 1 images in page 13\n",
            "[+] Found a total of 1 images in page 14\n",
            "[+] Found a total of 1 images in page 15\n",
            "[+] Found a total of 1 images in page 16\n",
            "[+] Found a total of 1 images in page 17\n",
            "[+] Found a total of 1 images in page 18\n",
            "[+] Found a total of 1 images in page 19\n",
            "[+] Found a total of 84 images in page 20\n",
            "[+] Found a total of 323 images in page 21\n",
            "[+] Found a total of 1 images in page 22\n",
            "[+] Found a total of 14 images in page 23\n",
            "[+] Found a total of 1 images in page 24\n",
            "[+] Found a total of 1 images in page 25\n",
            "[+] Found a total of 1 images in page 26\n",
            "[+] Found a total of 1 images in page 27\n",
            "[+] Found a total of 1 images in page 28\n",
            "[+] Found a total of 1 images in page 29\n",
            "[+] Found a total of 1 images in page 30\n",
            "[+] Found a total of 1 images in page 31\n",
            "[+] Found a total of 2 images in page 32\n",
            "[+] Found a total of 3 images in page 33\n",
            "[+] Found a total of 3 images in page 34\n",
            "[+] Found a total of 1 images in page 35\n",
            "[+] Found a total of 1 images in page 36\n",
            "[+] Found a total of 1 images in page 37\n",
            "[+] Found a total of 48 images in page 38\n",
            "[+] Found a total of 3 images in page 39\n",
            "[+] Found a total of 1 images in page 40\n",
            "[+] Found a total of 131 images in page 41\n",
            "[+] Found a total of 58 images in page 42\n",
            "[+] Found a total of 44 images in page 43\n",
            "[+] Found a total of 1 images in page 44\n",
            "[+] Found a total of 1 images in page 45\n",
            "[+] Found a total of 1 images in page 46\n",
            "[+] Found a total of 1 images in page 47\n",
            "[+] Found a total of 1 images in page 48\n",
            "[+] Found a total of 12 images in page 49\n",
            "[+] Found a total of 1 images in page 50\n",
            "[+] Found a total of 1 images in page 51\n",
            "[+] Found a total of 1 images in page 52\n",
            "[+] Found a total of 1 images in page 53\n",
            "[+] Found a total of 1 images in page 54\n",
            "[+] Found a total of 2 images in page 55\n",
            "[+] Found a total of 1 images in page 56\n",
            "[+] Found a total of 16 images in page 57\n",
            "[+] Found a total of 1 images in page 58\n",
            "[+] Found a total of 1 images in page 59\n",
            "[+] Found a total of 1 images in page 60\n",
            "[+] Found a total of 1 images in page 61\n",
            "[+] Found a total of 47 images in page 62\n",
            "[+] Found a total of 88 images in page 63\n",
            "[+] Found a total of 141 images in page 64\n",
            "[+] Found a total of 42 images in page 65\n",
            "[+] Found a total of 18 images in page 66\n",
            "[+] Found a total of 18 images in page 67\n",
            "[+] Found a total of 127 images in page 68\n",
            "[+] Found a total of 112 images in page 69\n",
            "[+] Found a total of 18 images in page 70\n",
            "[+] Found a total of 1 images in page 71\n"
          ],
          "name": "stdout"
        }
      ]
    }
  ]
}